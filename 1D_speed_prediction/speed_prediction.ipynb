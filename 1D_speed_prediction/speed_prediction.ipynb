{
 "cells": [
  {
   "cell_type": "code",
   "execution_count": 34,
   "metadata": {},
   "outputs": [],
   "source": [
    "import mne\n",
    "import numpy as np\n",
    "from sklearn.preprocessing import StandardScaler\n",
    "from sklearn.model_selection import train_test_split"
   ]
  },
  {
   "cell_type": "code",
   "execution_count": null,
   "metadata": {},
   "outputs": [
    {
     "name": "stdout",
     "output_type": "stream",
     "text": [
      "Extracting EDF parameters from D:\\UCF\\Brain Lab\\NMI_DL_Project\\1D_speed_prediction\\data\\EEG_speed\\Ll01\\EEG\\level_050.bdf...\n",
      "BDF file detected\n",
      "Setting channel info structure...\n",
      "Creating raw.info structure...\n",
      "Reading 0 ... 200191  =      0.000 ...   390.998 secs...\n",
      "Filtering raw data in 1 contiguous segment\n",
      "Setting up band-pass filter from 0.5 - 40 Hz\n",
      "\n",
      "FIR filter parameters\n",
      "---------------------\n",
      "Designing a one-pass, zero-phase, non-causal bandpass filter:\n",
      "- Windowed time-domain design (firwin) method\n",
      "- Hamming window with 0.0194 passband ripple and 53 dB stopband attenuation\n",
      "- Lower passband edge: 0.50\n",
      "- Lower transition bandwidth: 0.50 Hz (-6 dB cutoff frequency: 0.25 Hz)\n",
      "- Upper passband edge: 40.00 Hz\n",
      "- Upper transition bandwidth: 10.00 Hz (-6 dB cutoff frequency: 45.00 Hz)\n",
      "- Filter length: 3381 samples (6.604 s)\n",
      "\n"
     ]
    },
    {
     "name": "stderr",
     "output_type": "stream",
     "text": [
      "[Parallel(n_jobs=1)]: Done  17 tasks      | elapsed:    0.0s\n",
      "[Parallel(n_jobs=1)]: Done  71 tasks      | elapsed:    0.2s\n"
     ]
    },
    {
     "name": "stdout",
     "output_type": "stream",
     "text": [
      "Extracting EDF parameters from D:\\UCF\\Brain Lab\\NMI_DL_Project\\1D_speed_prediction\\data\\EEG_speed\\Ll01\\EEG\\level_075.bdf...\n",
      "BDF file detected\n",
      "Setting channel info structure...\n",
      "Creating raw.info structure...\n",
      "Reading 0 ... 189951  =      0.000 ...   370.998 secs...\n",
      "Filtering raw data in 1 contiguous segment\n",
      "Setting up band-pass filter from 0.5 - 40 Hz\n",
      "\n",
      "FIR filter parameters\n",
      "---------------------\n",
      "Designing a one-pass, zero-phase, non-causal bandpass filter:\n",
      "- Windowed time-domain design (firwin) method\n",
      "- Hamming window with 0.0194 passband ripple and 53 dB stopband attenuation\n",
      "- Lower passband edge: 0.50\n",
      "- Lower transition bandwidth: 0.50 Hz (-6 dB cutoff frequency: 0.25 Hz)\n",
      "- Upper passband edge: 40.00 Hz\n",
      "- Upper transition bandwidth: 10.00 Hz (-6 dB cutoff frequency: 45.00 Hz)\n",
      "- Filter length: 3381 samples (6.604 s)\n",
      "\n"
     ]
    },
    {
     "name": "stderr",
     "output_type": "stream",
     "text": [
      "[Parallel(n_jobs=1)]: Done  17 tasks      | elapsed:    0.0s\n",
      "[Parallel(n_jobs=1)]: Done  71 tasks      | elapsed:    0.2s\n"
     ]
    },
    {
     "name": "stdout",
     "output_type": "stream",
     "text": [
      "Extracting EDF parameters from D:\\UCF\\Brain Lab\\NMI_DL_Project\\1D_speed_prediction\\data\\EEG_speed\\Ll01\\EEG\\level_100.bdf...\n",
      "BDF file detected\n",
      "Setting channel info structure...\n",
      "Creating raw.info structure...\n",
      "Reading 0 ... 186879  =      0.000 ...   364.998 secs...\n",
      "Filtering raw data in 1 contiguous segment\n",
      "Setting up band-pass filter from 0.5 - 40 Hz\n",
      "\n",
      "FIR filter parameters\n",
      "---------------------\n",
      "Designing a one-pass, zero-phase, non-causal bandpass filter:\n",
      "- Windowed time-domain design (firwin) method\n",
      "- Hamming window with 0.0194 passband ripple and 53 dB stopband attenuation\n",
      "- Lower passband edge: 0.50\n",
      "- Lower transition bandwidth: 0.50 Hz (-6 dB cutoff frequency: 0.25 Hz)\n",
      "- Upper passband edge: 40.00 Hz\n",
      "- Upper transition bandwidth: 10.00 Hz (-6 dB cutoff frequency: 45.00 Hz)\n",
      "- Filter length: 3381 samples (6.604 s)\n",
      "\n"
     ]
    },
    {
     "name": "stderr",
     "output_type": "stream",
     "text": [
      "[Parallel(n_jobs=1)]: Done  17 tasks      | elapsed:    0.1s\n",
      "[Parallel(n_jobs=1)]: Done  71 tasks      | elapsed:    0.6s\n"
     ]
    },
    {
     "name": "stdout",
     "output_type": "stream",
     "text": [
      "Extracting EDF parameters from D:\\UCF\\Brain Lab\\NMI_DL_Project\\1D_speed_prediction\\data\\EEG_speed\\Ll01\\EEG\\level_125.bdf...\n",
      "BDF file detected\n",
      "Setting channel info structure...\n",
      "Creating raw.info structure...\n",
      "Reading 0 ... 181247  =      0.000 ...   353.998 secs...\n",
      "Filtering raw data in 1 contiguous segment\n",
      "Setting up band-pass filter from 0.5 - 40 Hz\n",
      "\n",
      "FIR filter parameters\n",
      "---------------------\n",
      "Designing a one-pass, zero-phase, non-causal bandpass filter:\n",
      "- Windowed time-domain design (firwin) method\n",
      "- Hamming window with 0.0194 passband ripple and 53 dB stopband attenuation\n",
      "- Lower passband edge: 0.50\n",
      "- Lower transition bandwidth: 0.50 Hz (-6 dB cutoff frequency: 0.25 Hz)\n",
      "- Upper passband edge: 40.00 Hz\n",
      "- Upper transition bandwidth: 10.00 Hz (-6 dB cutoff frequency: 45.00 Hz)\n",
      "- Filter length: 3381 samples (6.604 s)\n",
      "\n"
     ]
    },
    {
     "name": "stderr",
     "output_type": "stream",
     "text": [
      "[Parallel(n_jobs=1)]: Done  17 tasks      | elapsed:    0.0s\n",
      "[Parallel(n_jobs=1)]: Done  71 tasks      | elapsed:    0.6s\n"
     ]
    },
    {
     "name": "stdout",
     "output_type": "stream",
     "text": [
      "Training set shape: (1031, 129, 1024, 1)\n",
      "Validation set shape: (221, 129, 1024, 1)\n",
      "Testing set shape: (221, 129, 1024, 1)\n"
     ]
    }
   ],
   "source": [
    "def preprocess_eeg(file_path, label, epoch_length=2, overlap=0.5):\n",
    "    # Load the raw EEG data\n",
    "    raw_data = mne.io.read_raw_bdf(file_path, preload=True)\n",
    "    \n",
    "    # Band pass filtering (0.5 - 40 Hz)\n",
    "    raw_data.filter(0.5, 40, fir_design='firwin')\n",
    "    \n",
    "    # Segment the data based on epoch length (seconds) with 50% overlap\n",
    "    sfreq = raw_data.info['sfreq']  # Sampling frequency\n",
    "    epoch_samples = int(epoch_length * sfreq)\n",
    "    overlap_samples = int(overlap * epoch_samples)\n",
    "    \n",
    "    # Create epochs\n",
    "    epochs = []\n",
    "    labels = []\n",
    "    for start in range(0, len(raw_data) - epoch_samples, epoch_samples - overlap_samples):\n",
    "        epoch = raw_data[:, start:start + epoch_samples][0]\n",
    "        epochs.append(epoch)\n",
    "        labels.append(label)\n",
    "    \n",
    "    epochs = np.array(epochs)\n",
    "    labels = np.array(labels)\n",
    "    \n",
    "    # Normalize: Normalize the EEG \n",
    "    scaler = StandardScaler()\n",
    "    epochs = np.array([scaler.fit_transform(epoch.T).T for epoch in epochs])\n",
    "    \n",
    "    return epochs, labels\n",
    "\n",
    "# List of file paths and corresponding labels\n",
    "file_paths = [\n",
    "    r'D:\\UCF\\Brain Lab\\NMI_DL_Project\\1D_speed_prediction\\data\\EEG_speed\\Ll01\\EEG\\level_050.bdf',\n",
    "    r'D:\\UCF\\Brain Lab\\NMI_DL_Project\\1D_speed_prediction\\data\\EEG_speed\\Ll01\\EEG\\level_075.bdf',\n",
    "    r'D:\\UCF\\Brain Lab\\NMI_DL_Project\\1D_speed_prediction\\data\\EEG_speed\\Ll01\\EEG\\level_100.bdf',\n",
    "    r'D:\\UCF\\Brain Lab\\NMI_DL_Project\\1D_speed_prediction\\data\\EEG_speed\\Ll01\\EEG\\level_125.bdf'\n",
    "]\n",
    "labels = [0.5, 0.75, 1.0, 1.25]\n",
    "\n",
    "# Combine data from all files\n",
    "all_epochs = []\n",
    "all_labels = []\n",
    "for file_path, label in zip(file_paths, labels):\n",
    "    epochs, epoch_labels = preprocess_eeg(file_path, label)\n",
    "    all_epochs.append(epochs)\n",
    "    all_labels.append(epoch_labels)\n",
    "\n",
    "all_epochs = np.concatenate(all_epochs, axis=0)\n",
    "all_labels = np.concatenate(all_labels, axis=0)\n",
    "\n",
    "label_mapping = {0.5: 0, 0.75: 1, 1.0: 2, 1.25: 3}\n",
    "reverse_mapping = {v: k for k, v in label_mapping.items()}  # For interpreting results later\n",
    "\n",
    "all_mapped_labels = [label_mapping[label] for label in all_labels]\n",
    "\n",
    "X_train, X_temp, y_train, y_temp = train_test_split(all_epochs, all_mapped_labels, test_size=0.3, random_state=42)\n",
    "X_val, X_test, y_val, y_test = train_test_split(X_temp, y_temp, test_size=0.5, random_state=42)\n",
    "\n",
    "# (epochs, channels, samples, 1)\n",
    "X_train = X_train.reshape((X_train.shape[0], X_train.shape[1], X_train.shape[2], 1))\n",
    "X_val = X_val.reshape((X_val.shape[0], X_val.shape[1], X_val.shape[2], 1))\n",
    "X_test = X_test.reshape((X_test.shape[0], X_test.shape[1], X_test.shape[2], 1))\n",
    "\n",
    "print(f'Training set shape: {X_train.shape}')\n",
    "print(f'Validation set shape: {X_val.shape}')\n",
    "print(f'Testing set shape: {X_test.shape}')"
   ]
  },
  {
   "cell_type": "code",
   "execution_count": null,
   "metadata": {},
   "outputs": [
    {
     "name": "stdout",
     "output_type": "stream",
     "text": [
      "EEGSpeedClassifier(\n",
      "  (conv1): Conv1d(129, 32, kernel_size=(3,), stride=(1,))\n",
      "  (bn1): BatchNorm1d(32, eps=1e-05, momentum=0.1, affine=True, track_running_stats=True)\n",
      "  (pool1): MaxPool1d(kernel_size=2, stride=2, padding=0, dilation=1, ceil_mode=False)\n",
      "  (dropout1): Dropout(p=0.2, inplace=False)\n",
      "  (conv2): Conv1d(32, 64, kernel_size=(3,), stride=(1,))\n",
      "  (bn2): BatchNorm1d(64, eps=1e-05, momentum=0.1, affine=True, track_running_stats=True)\n",
      "  (pool2): MaxPool1d(kernel_size=2, stride=2, padding=0, dilation=1, ceil_mode=False)\n",
      "  (dropout2): Dropout(p=0.2, inplace=False)\n",
      "  (fc1): Linear(in_features=16256, out_features=128, bias=True)\n",
      "  (dropout_fc1): Dropout(p=0.5, inplace=False)\n",
      "  (fc2): Linear(in_features=128, out_features=4, bias=True)\n",
      ")\n"
     ]
    }
   ],
   "source": [
    "import torch\n",
    "import torch.nn as nn\n",
    "import torch.nn.functional as F\n",
    "\n",
    "class EEGSpeedClassifier(nn.Module):\n",
    "    def __init__(self, input_channels, num_samples_per_epoch, num_classes):\n",
    "        super(EEGSpeedClassifier, self).__init__()\n",
    "        # First Convolutional Block\n",
    "        self.conv1 = nn.Conv1d(in_channels=input_channels, out_channels=32, kernel_size=3)\n",
    "        self.bn1 = nn.BatchNorm1d(32)\n",
    "        self.pool1 = nn.MaxPool1d(kernel_size=2)\n",
    "        self.dropout1 = nn.Dropout(0.2)\n",
    "        \n",
    "        # Second Convolutional Block\n",
    "        self.conv2 = nn.Conv1d(in_channels=32, out_channels=64, kernel_size=3)\n",
    "        self.bn2 = nn.BatchNorm1d(64)\n",
    "        self.pool2 = nn.MaxPool1d(kernel_size=2)\n",
    "        self.dropout2 = nn.Dropout(0.2)\n",
    "        \n",
    "        # Fully Connected Layers\n",
    "        self.flatten_size = self._calculate_flatten_size(input_channels, num_samples_per_epoch)\n",
    "        self.fc1 = nn.Linear(self.flatten_size, 128)\n",
    "        self.dropout_fc1 = nn.Dropout(0.5)\n",
    "        self.fc2 = nn.Linear(128, num_classes)\n",
    "    \n",
    "    def _calculate_flatten_size(self, input_channels, num_samples):\n",
    "        x = torch.zeros(1, input_channels, num_samples)\n",
    "        x = self.pool1(self.bn1(F.relu(self.conv1(x))))\n",
    "        x = self.pool2(self.bn2(F.relu(self.conv2(x))))\n",
    "        return x.numel()\n",
    "    \n",
    "    def forward(self, x):\n",
    "        # First Convolutional Block\n",
    "        x = self.conv1(x)\n",
    "        x = F.relu(x)\n",
    "        x = self.bn1(x)\n",
    "        x = self.pool1(x)\n",
    "        x = self.dropout1(x)\n",
    "        \n",
    "        # Second Convolutional Block\n",
    "        x = self.conv2(x)\n",
    "        x = F.relu(x)\n",
    "        x = self.bn2(x)\n",
    "        x = self.pool2(x)\n",
    "        x = self.dropout2(x)\n",
    "        \n",
    "        # Fully Connected Layers\n",
    "        x = torch.flatten(x, 1)  \n",
    "        x = self.fc1(x)\n",
    "        x = F.relu(x)\n",
    "        x = self.dropout_fc1(x)\n",
    "        x = self.fc2(x)\n",
    "        return x\n",
    "\n",
    "input_channels = 129  # Number of EEG channels\n",
    "num_samples_per_epoch = 1024  # Number of time steps in an epoch\n",
    "num_classes = 4  # 0.5, 0.75, 1, 1.25 m/s\n",
    "\n",
    "model = EEGSpeedClassifier(input_channels, num_samples_per_epoch, num_classes)\n",
    "print(model)"
   ]
  },
  {
   "cell_type": "code",
   "execution_count": 67,
   "metadata": {},
   "outputs": [],
   "source": [
    "from torch.utils.data import Dataset\n",
    "\n",
    "class EEGDataset(Dataset):\n",
    "    def __init__(self, data, labels):\n",
    "        self.data = torch.tensor(data, dtype=torch.float32)  # Convert to PyTorch tensor\n",
    "        self.labels = torch.tensor(labels, dtype=torch.long)  # Convert to long tensor for classification\n",
    "        \n",
    "    def __len__(self):\n",
    "        return len(self.data)\n",
    "    \n",
    "    def __getitem__(self, idx):\n",
    "        signal = self.data[idx].squeeze(-1)\n",
    "        label = self.labels[idx]\n",
    "        return signal, label\n"
   ]
  },
  {
   "cell_type": "code",
   "execution_count": 68,
   "metadata": {},
   "outputs": [],
   "source": [
    "train_dataset = EEGDataset(data=X_train, labels=y_train)\n",
    "val_dataset = EEGDataset(data=X_val, labels=y_val)\n",
    "test_dataset = EEGDataset(data=X_test, labels=y_test)"
   ]
  },
  {
   "cell_type": "code",
   "execution_count": 69,
   "metadata": {},
   "outputs": [],
   "source": [
    "from torch.utils.data import DataLoader\n",
    "\n",
    "batch_size = 32\n",
    "\n",
    "train_loader = DataLoader(train_dataset, batch_size=batch_size, shuffle=True)\n",
    "val_loader = DataLoader(val_dataset, batch_size=batch_size, shuffle=False)\n",
    "test_loader = DataLoader(test_dataset, batch_size=batch_size, shuffle=False)\n"
   ]
  },
  {
   "cell_type": "code",
   "execution_count": 70,
   "metadata": {},
   "outputs": [
    {
     "name": "stdout",
     "output_type": "stream",
     "text": [
      "Epoch 1, Val Loss: 18.8194, Val Accuracy: 35.75%\n",
      "Epoch 2, Val Loss: 10.4945, Val Accuracy: 43.44%\n",
      "Epoch 3, Val Loss: 8.4045, Val Accuracy: 45.70%\n",
      "Epoch 4, Val Loss: 7.8019, Val Accuracy: 52.04%\n",
      "Epoch 5, Val Loss: 7.1056, Val Accuracy: 53.39%\n",
      "Epoch 6, Val Loss: 6.9532, Val Accuracy: 52.49%\n",
      "Epoch 7, Val Loss: 6.8886, Val Accuracy: 55.20%\n",
      "Epoch 8, Val Loss: 6.7227, Val Accuracy: 56.11%\n",
      "Epoch 9, Val Loss: 6.4665, Val Accuracy: 59.28%\n",
      "Epoch 10, Val Loss: 5.8154, Val Accuracy: 60.18%\n",
      "Epoch 11, Val Loss: 6.4782, Val Accuracy: 62.90%\n",
      "Epoch 12, Val Loss: 5.9770, Val Accuracy: 66.97%\n",
      "Epoch 13, Val Loss: 6.5487, Val Accuracy: 64.71%\n",
      "Epoch 14, Val Loss: 5.9994, Val Accuracy: 66.97%\n",
      "Epoch 15, Val Loss: 6.7344, Val Accuracy: 65.61%\n",
      "Epoch 16, Val Loss: 5.9893, Val Accuracy: 67.42%\n",
      "Epoch 17, Val Loss: 6.4789, Val Accuracy: 64.71%\n",
      "Epoch 18, Val Loss: 6.5098, Val Accuracy: 67.42%\n",
      "Epoch 19, Val Loss: 6.3830, Val Accuracy: 68.78%\n",
      "Epoch 20, Val Loss: 6.5192, Val Accuracy: 69.68%\n",
      "Epoch 21, Val Loss: 7.9051, Val Accuracy: 66.52%\n",
      "Epoch 22, Val Loss: 7.4840, Val Accuracy: 67.87%\n",
      "Epoch 23, Val Loss: 6.2686, Val Accuracy: 70.14%\n",
      "Epoch 24, Val Loss: 6.6429, Val Accuracy: 68.78%\n",
      "Epoch 25, Val Loss: 7.1357, Val Accuracy: 68.78%\n",
      "Epoch 26, Val Loss: 7.1652, Val Accuracy: 70.59%\n",
      "Epoch 27, Val Loss: 6.9744, Val Accuracy: 71.49%\n",
      "Epoch 28, Val Loss: 7.0874, Val Accuracy: 71.04%\n",
      "Epoch 29, Val Loss: 7.2665, Val Accuracy: 72.40%\n",
      "Epoch 30, Val Loss: 6.9426, Val Accuracy: 74.21%\n",
      "Epoch 31, Val Loss: 8.5665, Val Accuracy: 71.49%\n",
      "Epoch 32, Val Loss: 8.5529, Val Accuracy: 73.30%\n",
      "Epoch 33, Val Loss: 6.8820, Val Accuracy: 76.02%\n",
      "Epoch 34, Val Loss: 6.6833, Val Accuracy: 76.92%\n",
      "Epoch 35, Val Loss: 6.5864, Val Accuracy: 75.57%\n",
      "Epoch 36, Val Loss: 7.1789, Val Accuracy: 75.11%\n",
      "Epoch 37, Val Loss: 7.7522, Val Accuracy: 73.76%\n",
      "Epoch 38, Val Loss: 7.5227, Val Accuracy: 76.02%\n",
      "Epoch 39, Val Loss: 7.9771, Val Accuracy: 72.85%\n",
      "Epoch 40, Val Loss: 8.6000, Val Accuracy: 74.66%\n",
      "Epoch 41, Val Loss: 7.7053, Val Accuracy: 76.92%\n",
      "Epoch 42, Val Loss: 8.4761, Val Accuracy: 77.83%\n",
      "Epoch 43, Val Loss: 8.1196, Val Accuracy: 75.57%\n",
      "Epoch 44, Val Loss: 8.5646, Val Accuracy: 73.76%\n",
      "Epoch 45, Val Loss: 8.4897, Val Accuracy: 77.38%\n",
      "Epoch 46, Val Loss: 9.7186, Val Accuracy: 72.85%\n",
      "Epoch 47, Val Loss: 10.0081, Val Accuracy: 72.85%\n",
      "Epoch 48, Val Loss: 9.6602, Val Accuracy: 73.76%\n",
      "Epoch 49, Val Loss: 7.9452, Val Accuracy: 78.28%\n",
      "Epoch 50, Val Loss: 7.6263, Val Accuracy: 76.02%\n"
     ]
    }
   ],
   "source": [
    "criterion = nn.CrossEntropyLoss()\n",
    "optimizer = torch.optim.Adam(model.parameters(), lr=0.001)\n",
    "\n",
    "num_epochs = 50\n",
    "\n",
    "for epoch in range(num_epochs):\n",
    "    # Training phase\n",
    "    model.train()\n",
    "    for X_batch, y_batch in train_loader:\n",
    "        optimizer.zero_grad()\n",
    "        outputs = model(X_batch)  \n",
    "        loss = criterion(outputs, y_batch)  \n",
    "        loss.backward()  \n",
    "        optimizer.step()  \n",
    "    \n",
    "    # Validation phase\n",
    "    model.eval()\n",
    "    val_loss = 0.0\n",
    "    correct = 0\n",
    "    total = 0\n",
    "    with torch.no_grad():\n",
    "        for X_batch, y_batch in val_loader:\n",
    "            outputs = model(X_batch)\n",
    "            val_loss += criterion(outputs, y_batch).item()\n",
    "            _, predicted = torch.max(outputs, 1)\n",
    "            total += y_batch.size(0)\n",
    "            correct += (predicted == y_batch).sum().item()\n",
    "    \n",
    "    print(f\"Epoch {epoch+1}, Val Loss: {val_loss:.4f}, Val Accuracy: {100 * correct / total:.2f}%\")\n"
   ]
  },
  {
   "cell_type": "code",
   "execution_count": null,
   "metadata": {},
   "outputs": [
    {
     "name": "stdout",
     "output_type": "stream",
     "text": [
      "              precision    recall  f1-score   support\n",
      "\n",
      "         0.5       0.69      0.88      0.77        60\n",
      "        0.75       0.65      0.53      0.58        49\n",
      "         1.0       0.96      0.82      0.88        55\n",
      "        1.25       0.95      0.95      0.95        57\n",
      "\n",
      "    accuracy                           0.81       221\n",
      "   macro avg       0.81      0.79      0.80       221\n",
      "weighted avg       0.81      0.81      0.80       221\n",
      "\n"
     ]
    }
   ],
   "source": [
    "from sklearn.metrics import classification_report, confusion_matrix\n",
    "\n",
    "all_labels = []\n",
    "all_predictions = []\n",
    "\n",
    "with torch.no_grad():\n",
    "    for X_batch, y_batch in test_loader:\n",
    "        outputs = model(X_batch)\n",
    "        _, predicted = torch.max(outputs, 1)\n",
    "        all_labels.extend(y_batch.cpu().numpy())\n",
    "        all_predictions.extend(predicted.cpu().numpy())\n",
    "\n",
    "labels = np.unique(all_labels)  \n",
    "unmap_labels = [reverse_mapping[label] for label in labels]\n",
    "target_names = [f\"{label}\" for label in unmap_labels]\n",
    "\n",
    "print(classification_report(all_labels, all_predictions, target_names=target_names, labels=labels))"
   ]
  },
  {
   "cell_type": "code",
   "execution_count": null,
   "metadata": {},
   "outputs": [
    {
     "data": {
      "image/png": "[encoded data removed]",
      "text/plain": [
       "<Figure size 800x600 with 2 Axes>"
      ]
     },
     "metadata": {},
     "output_type": "display_data"
    }
   ],
   "source": [
    "conf_matrix = confusion_matrix(all_labels, all_predictions)\n",
    "\n",
    "import seaborn as sns\n",
    "import matplotlib.pyplot as plt\n",
    "\n",
    "class_names = [\"0.5 m/s\", \"0.75 m/s\", \"1.0 m/s\", \"1.25 m/s\"]\n",
    "\n",
    "conf_matrix_normalized = conf_matrix.astype('float') / conf_matrix.sum(axis=1)[:, np.newaxis]\n",
    "\n",
    "# Plot the heatmap\n",
    "plt.figure(figsize=(8, 6))\n",
    "sns.heatmap(conf_matrix_normalized, annot=True, fmt='.2f', cmap='Blues', xticklabels=class_names, yticklabels=class_names)\n",
    "\n",
    "# Add labels and title\n",
    "plt.xlabel('Predicted Labels')\n",
    "plt.ylabel('True Labels')\n",
    "plt.title('Normalized Confusion Matrix')\n",
    "plt.show()\n"
   ]
  }
 ],
 "metadata": {
  "kernelspec": {
   "display_name": "Python 3",
   "language": "python",
   "name": "python3"
  },
  "language_info": {
   "codemirror_mode": {
    "name": "ipython",
    "version": 3
   },
   "file_extension": ".py",
   "mimetype": "text/x-python",
   "name": "python",
   "nbconvert_exporter": "python",
   "pygments_lexer": "ipython3",
   "version": "3.11.0"
  }
 },
 "nbformat": 4,
 "nbformat_minor": 2
}
